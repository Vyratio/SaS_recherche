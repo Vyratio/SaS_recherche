{
 "cells": [
  {
   "cell_type": "code",
   "execution_count": null,
   "metadata": {},
   "outputs": [],
   "source": []
  },
  {
   "cell_type": "code",
   "execution_count": 1,
   "metadata": {},
   "outputs": [],
   "source": [
    "import pandas as pd\n",
    "\n",
    "# Charger le fichier CSV\n",
    "df = pd.read_csv(\"IHMStefanini_industrial_safety_and_health_database_with_accidents_description.csv\")\n",
    "\n",
    "# Convertir en Excel et écrire dans un fichier\n",
    "df.to_excel(\"IHMStefanini_industrial_safety_and_health_database_with_accidents_description.xlsx\", engine='openpyxl', index=False)\n"
   ]
  },
  {
   "cell_type": "code",
   "execution_count": 2,
   "metadata": {},
   "outputs": [],
   "source": [
    "# Charger le fichier CSV\n",
    "df = pd.read_csv(\"IHMStefanini_industrial_safety_and_health_database.csv\")\n",
    "\n",
    "# Convertir en Excel et écrire dans un fichier\n",
    "df.to_excel(\"IHMStefanini_industrial_safety_and_health_database.xlsx\", engine='openpyxl', index=False)"
   ]
  }
 ],
 "metadata": {
  "kernelspec": {
   "display_name": "machine_learning",
   "language": "python",
   "name": "python3"
  },
  "language_info": {
   "codemirror_mode": {
    "name": "ipython",
    "version": 3
   },
   "file_extension": ".py",
   "mimetype": "text/x-python",
   "name": "python",
   "nbconvert_exporter": "python",
   "pygments_lexer": "ipython3",
   "version": "3.11.3"
  },
  "orig_nbformat": 4
 },
 "nbformat": 4,
 "nbformat_minor": 2
}
