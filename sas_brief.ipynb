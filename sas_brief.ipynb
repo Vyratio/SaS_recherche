{
 "cells": [
  {
   "cell_type": "code",
   "execution_count": 1,
   "metadata": {},
   "outputs": [
    {
     "name": "stdout",
     "output_type": "stream",
     "text": [
      "Using SAS Config named: default\n",
      "The OS Error was:\n",
      "No such file or directory\n",
      "SAS Connection failed. No connection established. Double check your settings in sascfg_personal.py file.\n",
      "Attempted to run program /opt/sasinside/SASHome/SASFoundation/9.4/bin/sas_u8 with the following parameters:['/opt/sasinside/SASHome/SASFoundation/9.4/bin/sas_u8', '-nodms', '-stdio', '-terminal', '-nosyntaxcheck', '-pagesize', 'MAX', '']\n",
      "If no OS Error above, try running the following command (where saspy is running) manually to see what is wrong:\n",
      "/opt/sasinside/SASHome/SASFoundation/9.4/bin/sas_u8 -nodms -stdio -terminal -nosyntaxcheck -pagesize MAX  \n",
      "\n",
      "SAS Connection failed. No connection established. Double check your settings in sascfg_personal.py file.\n",
      "Attempted to run program /opt/sasinside/SASHome/SASFoundation/9.4/bin/sas_u8 with the following parameters:['/opt/sasinside/SASHome/SASFoundation/9.4/bin/sas_u8', '-nodms', '-stdio', '-terminal', '-nosyntaxcheck', '-pagesize', 'MAX', '']\n",
      "Try running the following command (where saspy is running) manually to see if you can get more information on what went wrong:\n",
      "/opt/sasinside/SASHome/SASFoundation/9.4/bin/sas_u8 -nodms -stdio -terminal -nosyntaxcheck -pagesize MAX  \n",
      "\n",
      "No SAS process attached. SAS process has terminated unexpectedly.\n",
      "Invalid response from SAS on inital submission. printing the SASLOG as diagnostic\n",
      "\n"
     ]
    },
    {
     "ename": "SASIOConnectionError",
     "evalue": "Failure establishing SASsession.\nNo SAS process attached. SAS process has terminated unexpectedly.",
     "output_type": "error",
     "traceback": [
      "\u001b[0;31m---------------------------------------------------------------------------\u001b[0m",
      "\u001b[0;31mSASIOConnectionError\u001b[0m                      Traceback (most recent call last)",
      "Cell \u001b[0;32mIn[1], line 3\u001b[0m\n\u001b[1;32m      1\u001b[0m \u001b[39m#Réflexion : Vous devez avoir un compte SaS pour pouvoir utiliser le code \u001b[39;00m\n\u001b[1;32m      2\u001b[0m \u001b[39mimport\u001b[39;00m \u001b[39msaspy\u001b[39;00m\n\u001b[0;32m----> 3\u001b[0m sas \u001b[39m=\u001b[39m saspy\u001b[39m.\u001b[39;49mSASsession()\n\u001b[1;32m      4\u001b[0m \u001b[39mprint\u001b[39m(\u001b[39mtype\u001b[39m(sas))\n",
      "File \u001b[0;32m~/.local/lib/python3.10/site-packages/saspy/sasbase.py:608\u001b[0m, in \u001b[0;36mSASsession.__init__\u001b[0;34m(self, **kwargs)\u001b[0m\n\u001b[1;32m    605\u001b[0m    \u001b[39mpass\u001b[39;00m\n\u001b[1;32m    607\u001b[0m \u001b[39mif\u001b[39;00m failed:\n\u001b[0;32m--> 608\u001b[0m    \u001b[39mraise\u001b[39;00m SASIOConnectionError(res)\n\u001b[1;32m    610\u001b[0m \u001b[39mif\u001b[39;00m \u001b[39mself\u001b[39m\u001b[39m.\u001b[39mpyenc \u001b[39mis\u001b[39;00m \u001b[39mnot\u001b[39;00m \u001b[39mNone\u001b[39;00m:\n\u001b[1;32m    611\u001b[0m    \u001b[39mif\u001b[39;00m \u001b[39mself\u001b[39m\u001b[39m.\u001b[39m_io\u001b[39m.\u001b[39msascfg\u001b[39m.\u001b[39mencoding \u001b[39m!=\u001b[39m \u001b[39m'\u001b[39m\u001b[39m'\u001b[39m:\n",
      "\u001b[0;31mSASIOConnectionError\u001b[0m: Failure establishing SASsession.\nNo SAS process attached. SAS process has terminated unexpectedly."
     ]
    }
   ],
   "source": [
    "#Réflexion : Vous devez avoir un compte SaS pour pouvoir utiliser le code \n",
    "import saspy\n",
    "sas = saspy.SASsession()\n",
    "print(type(sas))\n"
   ]
  },
  {
   "cell_type": "code",
   "execution_count": 1,
   "metadata": {},
   "outputs": [
    {
     "name": "stdout",
     "output_type": "stream",
     "text": [
      "Using SAS Config named: default\n",
      "The OS Error was:\n",
      "No such file or directory\n",
      "SAS Connection failed. No connection established. Double check your settings in sascfg_personal.py file.\n",
      "Attempted to run program /opt/sasinside/SASHome/SASFoundation/9.4/bin/sas_u8 with the following parameters:['/opt/sasinside/SASHome/SASFoundation/9.4/bin/sas_u8', '-nodms', '-stdio', '-terminal', '-nosyntaxcheck', '-pagesize', 'MAX', '']\n",
      "If no OS Error above, try running the following command (where saspy is running) manually to see what is wrong:\n",
      "/opt/sasinside/SASHome/SASFoundation/9.4/bin/sas_u8 -nodms -stdio -terminal -nosyntaxcheck -pagesize MAX  \n",
      "\n",
      "SAS Connection failed. No connection established. Double check your settings in sascfg_personal.py file.\n",
      "Attempted to run program /opt/sasinside/SASHome/SASFoundation/9.4/bin/sas_u8 with the following parameters:['/opt/sasinside/SASHome/SASFoundation/9.4/bin/sas_u8', '-nodms', '-stdio', '-terminal', '-nosyntaxcheck', '-pagesize', 'MAX', '']\n",
      "Try running the following command (where saspy is running) manually to see if you can get more information on what went wrong:\n",
      "/opt/sasinside/SASHome/SASFoundation/9.4/bin/sas_u8 -nodms -stdio -terminal -nosyntaxcheck -pagesize MAX  \n",
      "\n",
      "No SAS process attached. SAS process has terminated unexpectedly.\n",
      "Invalid response from SAS on inital submission. printing the SASLOG as diagnostic\n",
      "\n"
     ]
    },
    {
     "ename": "SASIOConnectionError",
     "evalue": "Failure establishing SASsession.\nNo SAS process attached. SAS process has terminated unexpectedly.",
     "output_type": "error",
     "traceback": [
      "\u001b[0;31m---------------------------------------------------------------------------\u001b[0m",
      "\u001b[0;31mSASIOConnectionError\u001b[0m                      Traceback (most recent call last)",
      "Cell \u001b[0;32mIn[1], line 2\u001b[0m\n\u001b[1;32m      1\u001b[0m \u001b[39mimport\u001b[39;00m \u001b[39msaspy\u001b[39;00m\n\u001b[0;32m----> 2\u001b[0m sas \u001b[39m=\u001b[39m saspy\u001b[39m.\u001b[39;49mSASsession()\n\u001b[1;32m      4\u001b[0m \u001b[39m# Chemin vers les fichiers CSV\u001b[39;00m\n\u001b[1;32m      5\u001b[0m csv_files \u001b[39m=\u001b[39m [\u001b[39m'\u001b[39m\u001b[39m/home/simplon/Bureau/brief_perparation_personelle/IHMStefanini_industrial_safety_and_health_database_with_accidents_description.csv\u001b[39m\u001b[39m'\u001b[39m, \n\u001b[1;32m      6\u001b[0m              \u001b[39m'\u001b[39m\u001b[39m/home/simplon/Bureau/brief_perparation_personelle/IHMStefanini_industrial_safety_and_health_database.csv\u001b[39m\u001b[39m'\u001b[39m]\n",
      "File \u001b[0;32m~/.local/lib/python3.10/site-packages/saspy/sasbase.py:608\u001b[0m, in \u001b[0;36mSASsession.__init__\u001b[0;34m(self, **kwargs)\u001b[0m\n\u001b[1;32m    605\u001b[0m    \u001b[39mpass\u001b[39;00m\n\u001b[1;32m    607\u001b[0m \u001b[39mif\u001b[39;00m failed:\n\u001b[0;32m--> 608\u001b[0m    \u001b[39mraise\u001b[39;00m SASIOConnectionError(res)\n\u001b[1;32m    610\u001b[0m \u001b[39mif\u001b[39;00m \u001b[39mself\u001b[39m\u001b[39m.\u001b[39mpyenc \u001b[39mis\u001b[39;00m \u001b[39mnot\u001b[39;00m \u001b[39mNone\u001b[39;00m:\n\u001b[1;32m    611\u001b[0m    \u001b[39mif\u001b[39;00m \u001b[39mself\u001b[39m\u001b[39m.\u001b[39m_io\u001b[39m.\u001b[39msascfg\u001b[39m.\u001b[39mencoding \u001b[39m!=\u001b[39m \u001b[39m'\u001b[39m\u001b[39m'\u001b[39m:\n",
      "\u001b[0;31mSASIOConnectionError\u001b[0m: Failure establishing SASsession.\nNo SAS process attached. SAS process has terminated unexpectedly."
     ]
    }
   ],
   "source": [
    "import saspy\n",
    "sas = saspy.SASsession()\n",
    "\n",
    "# Chemin vers les fichiers CSV\n",
    "csv_files = ['/home/simplon/Bureau/brief_perparation_personelle/IHMStefanini_industrial_safety_and_health_database_with_accidents_description.csv', \n",
    "             '/home/simplon/Bureau/brief_perparation_personelle/IHMStefanini_industrial_safety_and_health_database.csv']\n",
    "\n",
    "# Chemin vers le fichier de sortie SAS\n",
    "sas_file = '/home/simplon/Bureau/brief_perparation_personelle'\n",
    "\n",
    "# Importer chaque fichier CSV dans une table SAS temporaire\n",
    "for i, csv_file in enumerate(csv_files):\n",
    "    table_name = f'table{i+1}'\n",
    "    sas.submit(f'''\n",
    "        proc import datafile=\"{csv_file}\"\n",
    "            out={table_name}\n",
    "            dbms=csv replace;\n",
    "        run;\n",
    "    ''')\n",
    "\n",
    "# Fusionner toutes les tables SAS temporaires en une seule table SAS\n",
    "sas.submit(f'''\n",
    "    data data;\n",
    "        set {','.join([f'table{i+1}' for i in range(len(csv_files))])};\n",
    "    run;\n",
    "''')\n",
    "\n",
    "# Copier la table SAS fusionnée dans le fichier de sortie\n",
    "sas.submit(f'''\n",
    "    proc copy inlib=work outlib=work\n",
    "        memtype=data\n",
    "        memname=data\n",
    "        outfile=\"{sas_file}\";\n",
    "    run;\n",
    "''')\n",
    "\n",
    "# Déconnecter la session SAS\n",
    "sas.disconnect()\n"
   ]
  }
 ],
 "metadata": {
  "kernelspec": {
   "display_name": "brief_agile",
   "language": "python",
   "name": "python3"
  },
  "language_info": {
   "codemirror_mode": {
    "name": "ipython",
    "version": 3
   },
   "file_extension": ".py",
   "mimetype": "text/x-python",
   "name": "python",
   "nbconvert_exporter": "python",
   "pygments_lexer": "ipython3",
   "version": "3.10.9"
  },
  "orig_nbformat": 4
 },
 "nbformat": 4,
 "nbformat_minor": 2
}
