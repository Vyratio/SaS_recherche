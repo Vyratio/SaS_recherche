{
 "cells": [
  {
   "cell_type": "code",
   "execution_count": null,
   "metadata": {},
   "outputs": [],
   "source": [
    "#Pour utiliser python dans SaS Studio\n",
    "\n",
    "/* Définition de la fonction */\n",
    "proc fcmp outlib=work.funcs.math;\n",
    "  function sqrt_py(x);\n",
    "    length cmd $ 200;\n",
    "    cmd = catx(' ','python','-c','\"import math; print(math.sqrt({}));\" ',x);\n",
    "    rc = system(cmd);\n",
    "    if rc = 0 then \n",
    "      do;\n",
    "        infile py_output;\n",
    "        input result;\n",
    "        return(result);\n",
    "      end;\n",
    "    else \n",
    "      return(.);\n",
    "  endsub;\n",
    "run;\n",
    "\n",
    "/* Appel de la fonction */\n",
    "data test;\n",
    "  x = 25;\n",
    "  y = sqrt_py(x);\n",
    "  put y=;\n",
    "run;"
   ]
  }
 ],
 "metadata": {
  "language_info": {
   "name": "python"
  },
  "orig_nbformat": 4
 },
 "nbformat": 4,
 "nbformat_minor": 2
}
